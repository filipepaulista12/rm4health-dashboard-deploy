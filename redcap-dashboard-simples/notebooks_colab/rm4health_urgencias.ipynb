﻿{
  "cells": [
    {"cell_type": "markdown", "metadata": {"language": "markdown"}, "source": ["# Urgências - Visão Geral"]},
    {"cell_type": "code", "metadata": {"language": "python"}, "source": [
      "import os, pandas as pd", 
      "def rp():\n    for p in ['data/rm4health_dados.csv','data/rm4health_dados_exemplo.csv','../data/rm4health_dados_exemplo.csv']:\n        if os.path.exists(p): return p\n    return None", 
      "p=rp(); df=pd.read_csv(p) if p else None", 
      "display(df.head() if df is not None else 'CSV não encontrado')"
    ]}
  ],
  "metadata": {"kernelspec": {"display_name": "Python 3", "name": "python3"}, "language_info": {"name": "python"}},
  "nbformat": 4, "nbformat_minor": 5
}
