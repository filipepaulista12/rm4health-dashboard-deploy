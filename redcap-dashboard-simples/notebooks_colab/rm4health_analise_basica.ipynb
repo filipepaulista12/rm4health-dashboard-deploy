﻿{
  "cells": [
    {
      "cell_type": "markdown",
      "metadata": {},
      "source": [
        "<a href=\"https://colab.research.google.com/github/filipepaulista12/rm4health-dashboard-deploy/blob/notebooks-google-colab/redcap-dashboard-simples/notebooks_colab/rm4health_analise_basica.ipynb\" target=\"_parent\"><img src=\"https://colab.research.google.com/assets/colab-badge.svg\" alt=\"Open In Colab\"/></a>"
      ]
    },
    {
      "cell_type": "markdown", 
      "metadata": {},
      "source": [
        "# RM4Health - Analise Basica\n",
        "\n",
        "Exploratory Data Analysis (EDA) basica do dataset."
      ]
    },
    {
      "cell_type": "code",
      "execution_count": null,
      "metadata": {},
      "outputs": [],
      "source": [
        "# Carrega CSV estatico\n",
        "import os, pandas as pd\n",
        "import matplotlib.pyplot as plt\n",
        "import seaborn as sns\n",
        "\n",
        "# Detecta ambiente\n",
        "try:\n",
        "    import google.colab\n",
        "    IN_COLAB = True\n", 
        "    print('Google Colab detectado')\n",
        "except:\n",
        "    IN_COLAB = False\n",
        "    print('Ambiente local')\n",
        "\n",
        "# Setup no Colab\n",
        "if IN_COLAB and not os.path.exists('rm4health-dashboard-deploy'):\n",
        "    !git clone https://github.com/filipepaulista12/rm4health-dashboard-deploy.git\n",
        "    os.chdir('rm4health-dashboard-deploy')\n",
        "    !git checkout notebooks-google-colab\n",
        "\n",
        "# Carrega CSV\n",
        "paths = [\n",
        "    'redcap-dashboard-simples/data/rm4health_dados_exemplo.csv',\n",
        "    'data/rm4health_dados_exemplo.csv',\n",
        "    '../data/rm4health_dados_exemplo.csv'\n",
        "]\n",
        "\n",
        "df = None\n",
        "for p in paths:\n",
        "    if os.path.exists(p):\n",
        "        try:\n",
        "            df = pd.read_csv(p, encoding='utf-8')\n",
        "        except:\n",
        "            df = pd.read_csv(p, encoding='latin1')\n",
        "        print(f'CSV carregado: {p} - Shape: {df.shape}')\n",
        "        break\n",
        "\n",
        "if df is None:\n",
        "    print('CSV nao encontrado!')"
      ]
    },
    {
      "cell_type": "code",
      "execution_count": null,
      "metadata": {},
      "outputs": [],
      "source": [
        "# Analise basica\n",
        "if df is not None:\n",
        "    print('Primeiros registros:')\n",
        "    display(df.head())\n",
        "    \n",
        "    print('\\nInfo do dataset:')\n",
        "    print(df.info())\n",
        "    \n",
        "    print('\\nEstatisticas:')\n",
        "    display(df.describe())\n",
        "    \n",
        "    # Graficos simples\n",
        "    numeric_cols = df.select_dtypes(include=['number']).columns\n",
        "    if len(numeric_cols) > 0:\n",
        "        plt.figure(figsize=(12, 8))\n",
        "        for i, col in enumerate(numeric_cols[:6]):\n",
        "            plt.subplot(2, 3, i+1)\n",
        "            plt.hist(df[col].dropna(), bins=20, alpha=0.7)\n",
        "            plt.title(f'Distribuicao: {col}')\n",
        "            plt.xlabel(col)\n",
        "        plt.tight_layout()\n",
        "        plt.show()\n",
        "else:\n",
        "    print('Execute a celula anterior primeiro.')"
      ]
    }
  ],
  "metadata": {
    "kernelspec": {
      "display_name": "Python 3",
      "language": "python", 
      "name": "python3"
    },
    "language_info": {
      "name": "python"
    }
  },
  "nbformat": 4,
  "nbformat_minor": 4
}
