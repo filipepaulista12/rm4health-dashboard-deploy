﻿{
  "cells": [
    {
      "cell_type": "markdown",
      "metadata": {"language": "markdown", "id": "title"},
      "source": ["#  Cuidadores Informais"]
    },
    {
      "cell_type": "code",
      "metadata": {"language": "python", "id": "load"},
      "source": [
        "import os, pandas as pd",
        "def rp():\n    for p in ['data/rm4health_dados.csv','data/rm4health_dados_exemplo.csv','../data/rm4health_dados_exemplo.csv']:\n        if os.path.exists(p): return p\n    return None",
        "p = rp(); df = pd.read_csv(p) if p else None",
        "print(' CSV:', p) if df is not None else print(' CSV não encontrado em data/')",
        "display(df.head() if df is not None else None)"
      ]
    },
    {
      "cell_type": "code",
      "metadata": {"language": "python", "id": "analysis"},
      "source": [
        "# TODO: Adapte nomes de colunas conforme seu CSV para esta análise",
        "if df is not None:\n    print('Linhas x colunas:', df.shape)\n    print('Colunas (20):', list(df.columns)[:20])\nelse:\n    print('Carregue um CSV válido em data/.')"
      ]
    }
  ],
  "metadata": {"kernelspec": {"display_name": "Python 3", "name": "python3"}, "language_info": {"name": "python"}},
  "nbformat": 4,
  "nbformat_minor": 5
}
