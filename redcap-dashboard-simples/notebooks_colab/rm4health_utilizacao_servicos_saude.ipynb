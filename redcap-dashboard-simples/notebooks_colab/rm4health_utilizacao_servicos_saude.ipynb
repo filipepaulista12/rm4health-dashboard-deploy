﻿{
  "cells": [
    {
      "cell_type": "markdown",
      "metadata": {},
      "source": [
        "<a href=\"https://colab.research.google.com/github/filipepaulista12/rm4health-dashboard-deploy/blob/notebooks-google-colab/redcap-dashboard-simples/notebooks_colab/rm4health_utilizacao_servicos_saude.ipynb\" target=\"_parent\"><img src=\"https://colab.research.google.com/assets/colab-badge.svg\" alt=\"Open In Colab\"/></a>"
      ]
    },
    {
      "cell_type": "markdown", 
      "metadata": {},
      "source": [
        "# RM4Health - Utilizacao de Servicos\n",
        "\n",
        "Uso de servicos de saude"
      ]
    },
    {
      "cell_type": "code",
      "execution_count": null,
      "metadata": {},
      "outputs": [],
      "source": [
        "# Loader CSV\n",
        "import os, pandas as pd\n",
        "\n",
        "try:\n",
        "    import google.colab\n",
        "    IN_COLAB = True\n",
        "except:\n",
        "    IN_COLAB = False\n",
        "\n",
        "if IN_COLAB and not os.path.exists('rm4health-dashboard-deploy'):\n",
        "    !git clone https://github.com/filipepaulista12/rm4health-dashboard-deploy.git\n",
        "    os.chdir('rm4health-dashboard-deploy')\n",
        "    !git checkout notebooks-google-colab\n",
        "\n",
        "paths = ['redcap-dashboard-simples/data/rm4health_dados_exemplo.csv', 'data/rm4health_dados_exemplo.csv']\n",
        "df = None\n",
        "for p in paths:\n",
        "    if os.path.exists(p):\n",
        "        try:\n",
        "            df = pd.read_csv(p, encoding='latin1')\n",
        "        except:\n",
        "            df = pd.read_csv(p)\n",
        "        print(f'CSV: {p} - Shape: {df.shape}')\n",
        "        break\n",
        "\n",
        "if df is None:\n",
        "    print('CSV nao encontrado')\n",
        "else:\n",
        "    print('Colunas disponiveis:')\n",
        "    for i, col in enumerate(df.columns):\n",
        "        print(f'{i+1:2}. {col}')"
      ]
    },
    {
      "cell_type": "code",
      "execution_count": null,
      "metadata": {},
      "outputs": [],
      "source": [
        "# Analise especifica - ADAPTE CONFORME NECESSARIO\n",
        "if df is not None:\n",
        "    print('Template de analise - adapte conforme suas colunas')\n",
        "    display(df.head())\n",
        "    display(df.describe())\n",
        "else:\n",
        "    print('Execute a celula anterior primeiro.')"
      ]
    }
  ],
  "metadata": {
    "kernelspec": {
      "display_name": "Python 3",
      "language": "python", 
      "name": "python3"
    },
    "language_info": {
      "name": "python"
    }
  },
  "nbformat": 4,
  "nbformat_minor": 4
}
