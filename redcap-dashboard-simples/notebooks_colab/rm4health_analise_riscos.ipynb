﻿{
  "cells": [
    {
      "cell_type": "markdown",
      "metadata": {},
      "source": [
        "<a href=\"https://colab.research.google.com/github/filipepaulista12/rm4health-dashboard-deploy/blob/notebooks-google-colab/redcap-dashboard-simples/notebooks_colab/rm4health_analise_riscos.ipynb\" target=\"_parent\"><img src=\"https://colab.research.google.com/assets/colab-badge.svg\" alt=\"Open In Colab\"/></a>"
      ]
    },
    {
      "cell_type": "markdown", 
      "metadata": {},
      "source": [
        "# RM4Health - Analise de Riscos\n",
        "\n",
        "Calculo de score de risco baseado em limiares clinicos."
      ]
    },
    {
      "cell_type": "code",
      "execution_count": null,
      "metadata": {},
      "outputs": [],
      "source": [
        "# Loader CSV\n",
        "import os, pandas as pd\n",
        "import numpy as np\n",
        "\n",
        "try:\n",
        "    import google.colab\n",
        "    IN_COLAB = True\n",
        "except:\n",
        "    IN_COLAB = False\n",
        "\n",
        "if IN_COLAB and not os.path.exists('rm4health-dashboard-deploy'):\n",
        "    !git clone https://github.com/filipepaulista12/rm4health-dashboard-deploy.git\n",
        "    os.chdir('rm4health-dashboard-deploy')\n",
        "    !git checkout notebooks-google-colab\n",
        "\n",
        "paths = ['redcap-dashboard-simples/data/rm4health_dados_exemplo.csv', 'data/rm4health_dados_exemplo.csv']\n",
        "df = None\n",
        "for p in paths:\n",
        "    if os.path.exists(p):\n",
        "        try:\n",
        "            df = pd.read_csv(p, encoding='latin1')\n",
        "        except:\n",
        "            df = pd.read_csv(p)\n",
        "        print(f'CSV: {p}')\n",
        "        break"
      ]
    },
    {
      "cell_type": "code",
      "execution_count": null,
      "metadata": {},
      "outputs": [],
      "source": [
        "# Calculo de risco simples\n",
        "if df is not None:\n",
        "    print('Calculando score de risco...')\n",
        "    \n",
        "    score = pd.Series(0, index=df.index)\n",
        "    \n",
        "    # Fatores de risco (ajuste conforme suas colunas)\n",
        "    if 'imc' in df.columns:\n",
        "        score += (df['imc'] > 30).astype(int)\n",
        "        print('+ IMC > 30')\n",
        "    \n",
        "    if 'pressao_sistolica' in df.columns:\n",
        "        score += (df['pressao_sistolica'] > 140).astype(int)\n",
        "        print('+ Pressao sistolica > 140')\n",
        "    \n",
        "    if 'glicose' in df.columns:\n",
        "        score += (df['glicose'] > 125).astype(int)\n",
        "        print('+ Glicose > 125')\n",
        "    \n",
        "    # Classifica risco\n",
        "    df['risco'] = np.where(score >= 2, 'Alto', np.where(score == 1, 'Medio', 'Baixo'))\n",
        "    \n",
        "    print('\\nDistribuicao de risco:')\n",
        "    print(df['risco'].value_counts())\n",
        "    \n",
        "    print('\\nPacientes de alto risco:')\n",
        "    alto_risco = df[df['risco'] == 'Alto']\n",
        "    if len(alto_risco) > 0:\n",
        "        display(alto_risco.head())\n",
        "    else:\n",
        "        print('Nenhum paciente de alto risco identificado')\n",
        "else:\n",
        "    print('Execute a celula anterior primeiro.')"
      ]
    }
  ],
  "metadata": {
    "kernelspec": {
      "display_name": "Python 3",
      "language": "python", 
      "name": "python3"
    },
    "language_info": {
      "name": "python"
    }
  },
  "nbformat": 4,
  "nbformat_minor": 4
}
