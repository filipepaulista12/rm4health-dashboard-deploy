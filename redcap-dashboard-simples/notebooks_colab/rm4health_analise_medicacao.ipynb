﻿{
  "cells": [
    {
      "cell_type": "markdown",
      "metadata": {},
      "source": [
        "<a href=\"https://colab.research.google.com/github/filipepaulista12/rm4health-dashboard-deploy/blob/notebooks-google-colab/redcap-dashboard-simples/notebooks_colab/rm4health_analise_medicacao.ipynb\" target=\"_parent\"><img src=\"https://colab.research.google.com/assets/colab-badge.svg\" alt=\"Open In Colab\"/></a>"
      ]
    },
    {
      "cell_type": "markdown", 
      "metadata": {},
      "source": [
        "# RM4Health - Analise de Medicacao\n",
        "\n",
        "Analise de aderencia e padroes de medicacao."
      ]
    },
    {
      "cell_type": "code",
      "execution_count": null,
      "metadata": {},
      "outputs": [],
      "source": [
        "# Loader CSV\n",
        "import os, pandas as pd\n",
        "\n",
        "try:\n",
        "    import google.colab\n",
        "    IN_COLAB = True\n",
        "except:\n",
        "    IN_COLAB = False\n",
        "\n",
        "if IN_COLAB and not os.path.exists('rm4health-dashboard-deploy'):\n",
        "    !git clone https://github.com/filipepaulista12/rm4health-dashboard-deploy.git\n",
        "    os.chdir('rm4health-dashboard-deploy')\n",
        "    !git checkout notebooks-google-colab\n",
        "\n",
        "paths = [\n",
        "    'redcap-dashboard-simples/data/rm4health_dados_exemplo.csv',\n",
        "    'data/rm4health_dados_exemplo.csv'\n",
        "]\n",
        "\n",
        "df = None\n",
        "for p in paths:\n",
        "    if os.path.exists(p):\n",
        "        try:\n",
        "            df = pd.read_csv(p, encoding='latin1')\n",
        "        except:\n",
        "            df = pd.read_csv(p)\n",
        "        print(f'CSV: {p} - Shape: {df.shape}')\n",
        "        break\n",
        "\n",
        "if df is None:\n",
        "    print('CSV nao encontrado')"
      ]
    },
    {
      "cell_type": "code",
      "execution_count": null,
      "metadata": {},
      "outputs": [],
      "source": [
        "# Analise de medicacao\n",
        "if df is not None:\n",
        "    # Procura colunas de medicacao\n",
        "    med_cols = [c for c in df.columns if any(k in c.lower() for k in ['med', 'farm', 'drug', 'pill'])]\n",
        "    \n",
        "    print('Colunas relacionadas a medicacao:')\n",
        "    print(med_cols)\n",
        "    \n",
        "    if med_cols:\n",
        "        for col in med_cols[:3]:\n",
        "            print(f'\\nAnalise: {col}')\n",
        "            print(df[col].value_counts())\n",
        "    else:\n",
        "        print('\\nNenhuma coluna de medicacao identificada.')\n",
        "        print('Todas as colunas:')\n",
        "        for i, col in enumerate(df.columns):\n",
        "            print(f'{i+1:2}. {col}')\n",
        "else:\n",
        "    print('Execute a celula anterior primeiro.')"
      ]
    }
  ],
  "metadata": {
    "kernelspec": {
      "display_name": "Python 3",
      "language": "python", 
      "name": "python3"
    },
    "language_info": {
      "name": "python"
    }
  },
  "nbformat": 4,
  "nbformat_minor": 4
}
