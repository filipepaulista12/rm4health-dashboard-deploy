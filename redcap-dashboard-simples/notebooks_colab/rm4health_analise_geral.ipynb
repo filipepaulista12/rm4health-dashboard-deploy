﻿{
  "cells": [
    {
      "cell_type": "markdown",
      "metadata": {},
      "source": [
        "<a href=\"https://colab.research.google.com/github/filipepaulista12/rm4health-dashboard-deploy/blob/notebooks-google-colab/redcap-dashboard-simples/notebooks_colab/rm4health_analise_geral.ipynb\" target=\"_parent\"><img src=\"https://colab.research.google.com/assets/colab-badge.svg\" alt=\"Open In Colab\"/></a>"
      ]
    },
    {
      "cell_type": "markdown", 
      "metadata": {},
      "source": [
        "# RM4Health - Analise Geral\n",
        "\n",
        "Resumo geral do dataset: dimensoes, colunas e amostra."
      ]
    },
    {
      "cell_type": "code",
      "execution_count": null,
      "metadata": {},
      "outputs": [],
      "source": [
        "# Carrega CSV estatico (sem VPN/API)\n",
        "import os, pandas as pd\n",
        "\n",
        "# Detecta se esta no Colab\n",
        "try:\n",
        "    import google.colab\n",
        "    IN_COLAB = True\n", 
        "    print('Executando no Google Colab')\n",
        "except:\n",
        "    IN_COLAB = False\n",
        "    print('Executando localmente')\n",
        "\n",
        "# Se no Colab, clona o repo\n",
        "if IN_COLAB and not os.path.exists('rm4health-dashboard-deploy'):\n",
        "    !git clone https://github.com/filipepaulista12/rm4health-dashboard-deploy.git\n",
        "    os.chdir('rm4health-dashboard-deploy')\n",
        "    !git checkout notebooks-google-colab\n",
        "\n",
        "# Procura o CSV\n",
        "candidates = [\n",
        "    'redcap-dashboard-simples/data/rm4health_dados_exemplo.csv',\n",
        "    'data/rm4health_dados_exemplo.csv',\n",
        "    '../data/rm4health_dados_exemplo.csv'\n",
        "]\n",
        "\n",
        "path = None\n",
        "for p in candidates:\n",
        "    if os.path.exists(p):\n",
        "        path = p\n",
        "        break\n",
        "\n",
        "if path:\n",
        "    try:\n",
        "        df = pd.read_csv(path, encoding='utf-8')\n",
        "    except:\n",
        "        try:\n",
        "            df = pd.read_csv(path, encoding='latin1')\n",
        "        except:\n",
        "            df = pd.read_csv(path)\n",
        "    print(f'CSV carregado: {path}')\n",
        "    print(f'Shape: {df.shape}')\n",
        "else:\n",
        "    df = None\n",
        "    print('CSV nao encontrado')"
      ]
    },
    {
      "cell_type": "code",
      "execution_count": null,
      "metadata": {},
      "outputs": [],
      "source": [
        "# Analise geral do dataset\n",
        "if df is not None:\n",
        "    print('=== RESUMO DO DATASET ===')\n",
        "    print(f'Registros: {len(df)}')\n",
        "    print(f'Colunas: {len(df.columns)}')\n",
        "    print('\\nNomes das colunas:')\n",
        "    for i, col in enumerate(df.columns):\n",
        "        print(f'{i+1:2}. {col}')\n",
        "    \n",
        "    print('\\n=== PRIMEIROS REGISTROS ===')\n",
        "    display(df.head())\n",
        "    \n",
        "    print('\\n=== ESTATISTICAS DESCRITIVAS ===')\n",
        "    display(df.describe())\n",
        "    \n",
        "    print('\\n=== TIPOS DE DADOS ===')\n",
        "    print(df.dtypes)\n",
        "    \n",
        "    print('\\n=== VALORES NULOS ===')\n",
        "    nulls = df.isnull().sum()\n",
        "    if nulls.sum() > 0:\n",
        "        print(nulls[nulls > 0])\n",
        "    else:\n",
        "        print('Nenhum valor nulo encontrado')\n",
        "else:\n",
        "    print('Execute a celula anterior para carregar os dados.')"
      ]
    }
  ],
  "metadata": {
    "kernelspec": {
      "display_name": "Python 3",
      "language": "python", 
      "name": "python3"
    },
    "language_info": {
      "name": "python",
      "version": "3.8.0"
    }
  },
  "nbformat": 4,
  "nbformat_minor": 4
}
